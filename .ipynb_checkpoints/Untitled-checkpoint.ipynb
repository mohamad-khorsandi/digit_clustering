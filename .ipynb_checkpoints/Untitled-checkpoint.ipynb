{
 "cells": [
  {
   "cell_type": "code",
   "execution_count": 1,
   "id": "ee9d1d66",
   "metadata": {},
   "outputs": [],
   "source": [
    "import cv2\n",
    "from matplotlib import pyplot as plt\n",
    "import numpy as np\n",
    "import random\n",
    "import os\n",
    "import shutil"
   ]
  },
  {
   "cell_type": "code",
   "execution_count": 2,
   "id": "abf5f57e",
   "metadata": {},
   "outputs": [],
   "source": [
    "one = plt.imread('usps_1.jpg')\n",
    "two = plt.imread('usps_2.jpg')\n",
    "three = plt.imread('usps_3.jpg')\n",
    "four = plt.imread('usps_4.jpg')\n",
    "five = plt.imread('usps_5.jpg')"
   ]
  },
  {
   "cell_type": "code",
   "execution_count": 3,
   "id": "d641355a",
   "metadata": {},
   "outputs": [],
   "source": [
    "# CONSTANTS:\n",
    "DIMENSION = 16\n",
    "VEC_LEN = 256\n",
    "SAMPLE_COUNT = 1100\n",
    "K = 5"
   ]
  },
  {
   "cell_type": "code",
   "execution_count": 4,
   "id": "9f805721",
   "metadata": {},
   "outputs": [],
   "source": [
    "def show(img):\n",
    "    plt.imshow(img, cmap='gray')"
   ]
  },
  {
   "cell_type": "code",
   "execution_count": 5,
   "id": "671e3334",
   "metadata": {},
   "outputs": [],
   "source": [
    "def sub_pic_list(total):\n",
    "    result = []\n",
    "    r = (int) (total.shape[0] / DIMENSION)\n",
    "    c = (int) (total.shape[1] / DIMENSION)\n",
    "    \n",
    "    for i in range(r):\n",
    "        for j in range(c):\n",
    "            if i > 11 and j == (c - 1):\n",
    "                break\n",
    "            result.append(sub_pic(i, j, total))\n",
    "    \n",
    "    return result\n",
    "\n",
    "def sub_pic(i, j, total):\n",
    "    si = i * DIMENSION\n",
    "    ei = (i + 1) * DIMENSION\n",
    "    sj = j * DIMENSION\n",
    "    ej = (j + 1) * DIMENSION\n",
    "    \n",
    "    return total[si:ei, sj:ej]\n"
   ]
  },
  {
   "cell_type": "code",
   "execution_count": 6,
   "id": "f78d3c7c",
   "metadata": {},
   "outputs": [],
   "source": [
    "ls1 = sub_pic_list(one)\n",
    "ls2 = sub_pic_list(two)\n",
    "ls3 = sub_pic_list(three)\n",
    "ls4 = sub_pic_list(four)\n",
    "ls5 = sub_pic_list(five)"
   ]
  },
  {
   "cell_type": "code",
   "execution_count": 7,
   "id": "c2281bed",
   "metadata": {},
   "outputs": [],
   "source": [
    "def flat_members(ls : np.ndarray):\n",
    "    return np.array([pic.flatten() for pic in ls])"
   ]
  },
  {
   "cell_type": "code",
   "execution_count": 8,
   "id": "b87249d7",
   "metadata": {},
   "outputs": [],
   "source": [
    "ls1 = flat_members(ls1)\n",
    "ls2 = flat_members(ls2)\n",
    "ls3 = flat_members(ls3)\n",
    "ls4 = flat_members(ls4)\n",
    "ls5 = flat_members(ls5)\n",
    "data = np.vstack((ls1, ls2, ls3, ls4, ls5))\n",
    "np.random.shuffle(data)"
   ]
  },
  {
   "cell_type": "code",
   "execution_count": 9,
   "id": "17a51cf1",
   "metadata": {},
   "outputs": [],
   "source": [
    "assert ls5.shape == (SAMPLE_COUNT, VEC_LEN)\n",
    "assert data.shape == (5 * SAMPLE_COUNT, VEC_LEN)"
   ]
  },
  {
   "cell_type": "code",
   "execution_count": 10,
   "id": "ec95aa0a",
   "metadata": {},
   "outputs": [],
   "source": [
    "def init_centers(k) -> np.ndarray:\n",
    "    centers = []\n",
    "    for i in range(k):\n",
    "        rand_point = [pixel_rand() for i in range(VEC_LEN)]\n",
    "        centers.append(rand_point)\n",
    "    return np.array(centers)\n",
    "\n",
    "def init_centers2(k):\n",
    "    centers = []\n",
    "    for i in range(k):\n",
    "        rand = random.randrange(0, len(data))\n",
    "        rand_point = data[rand]\n",
    "        centers.append(rand_point)\n",
    "    return np.array(centers)\n",
    "\n",
    "\n",
    "def pixel_rand():\n",
    "        return random.randrange(0, 256)"
   ]
  },
  {
   "cell_type": "code",
   "execution_count": 11,
   "id": "1a984362",
   "metadata": {},
   "outputs": [],
   "source": [
    "class Group:\n",
    "    def __init__(self, center):\n",
    "        self.center = center\n",
    "        self.members = []\n",
    "        self.sz_hist = []\n",
    "            \n",
    "    def dis(self, vec: np.ndarray) -> float:\n",
    "        temp = vec - self.center\n",
    "        sum_sq = np.dot(temp.T, temp)\n",
    "        return np.sqrt(sum_sq)\n",
    "    \n",
    "    def add(self, vec):\n",
    "        self.members.append(vec)\n",
    "    \n",
    "    def flush(self):\n",
    "        self.members = []\n",
    "        \n",
    "    def __len__(self):\n",
    "        return len(self.members)\n",
    "    \n",
    "    def move_center(self):\n",
    "        self.center = np.mean(self.members, axis=0)\n",
    "        self.sz_hist.append(len(self))\n",
    "    \n",
    "    def converge_score(self):\n",
    "        return abs(self.sz_hist[-1] - self.sz_hist[-2])"
   ]
  },
  {
   "cell_type": "code",
   "execution_count": 12,
   "id": "c9b05c3d",
   "metadata": {},
   "outputs": [],
   "source": [
    "centers = init_centers(K)\n",
    "groups = [Group(cen) for cen in centers]\n",
    "assert centers.shape == (K, VEC_LEN)"
   ]
  },
  {
   "cell_type": "code",
   "execution_count": 13,
   "id": "fffe13c3",
   "metadata": {},
   "outputs": [],
   "source": [
    "def flush_all():\n",
    "    for g in groups:\n",
    "        g.flush()"
   ]
  },
  {
   "cell_type": "code",
   "execution_count": 14,
   "id": "0d153328",
   "metadata": {},
   "outputs": [],
   "source": [
    "def assign():\n",
    "    for vec in data:\n",
    "        tmp_ls = [(gp, gp.dis(vec)) for gp in groups]\n",
    "        best_gp = min(tmp_ls, key=lambda tup: tup[1])[0]\n",
    "        best_gp.add(vec)\n",
    "\n",
    "#test\n",
    "flush_all()\n",
    "assign()\n",
    "assert sum([len(g) for g in groups]) == 5500\n",
    "flush_all()"
   ]
  },
  {
   "cell_type": "code",
   "execution_count": 15,
   "id": "f872c57e",
   "metadata": {},
   "outputs": [],
   "source": [
    "def move_all():\n",
    "    for g in groups:\n",
    "        g.move_center()"
   ]
  },
  {
   "cell_type": "code",
   "execution_count": 16,
   "id": "40775079",
   "metadata": {},
   "outputs": [],
   "source": [
    "def cal_conv_score():\n",
    "    cur_sum = sum([g.converge_score() for g in groups])\n",
    "    converge_score_hist.append(cur_sum)"
   ]
  },
  {
   "cell_type": "markdown",
   "id": "3d1891b8",
   "metadata": {},
   "source": [
    "# main block"
   ]
  },
  {
   "cell_type": "code",
   "execution_count": 17,
   "id": "0fe16c53",
   "metadata": {},
   "outputs": [],
   "source": [
    "converge_score_hist = []\n",
    "it = 60\n",
    "for i in range(it):\n",
    "    assign()\n",
    "    if (i > 1):\n",
    "        cal_conv_score()\n",
    "    move_all()\n",
    "    \n",
    "    if (i != it -1):\n",
    "        flush_all()"
   ]
  },
  {
   "cell_type": "code",
   "execution_count": 18,
   "id": "fc2bfee6",
   "metadata": {},
   "outputs": [
    {
     "data": {
      "image/png": "[encoded data removed]",
      "text/plain": [
       "<Figure size 640x480 with 1 Axes>"
      ]
     },
     "metadata": {},
     "output_type": "display_data"
    }
   ],
   "source": [
    "clrs = ['r', 'b', 'g', 'm', 'k', 'r', 'b', 'g', 'm', 'k']\n",
    "for i in range(len(groups)):\n",
    "    plt.plot(groups[i].sz_hist, clrs[i])"
   ]
  },
  {
   "cell_type": "code",
   "execution_count": 153,
   "id": "dbb5ba82",
   "metadata": {},
   "outputs": [
    {
     "data": {
      "text/plain": [
       "[<matplotlib.lines.Line2D at 0x7fe2cb410df0>]"
      ]
     },
     "execution_count": 153,
     "metadata": {},
     "output_type": "execute_result"
    },
    {
     "data": {
      "image/png": "[encoded data removed]",
      "text/plain": [
       "<Figure size 640x480 with 1 Axes>"
      ]
     },
     "metadata": {},
     "output_type": "display_data"
    }
   ],
   "source": [
    "plt.plot(converge_score_hist)"
   ]
  },
  {
   "cell_type": "code",
   "execution_count": 154,
   "id": "43388ea6",
   "metadata": {},
   "outputs": [
    {
     "data": {
      "text/plain": [
       "[10, 4, 6, 6, 0, 0, 0, 0, 0, 0]"
      ]
     },
     "execution_count": 154,
     "metadata": {},
     "output_type": "execute_result"
    }
   ],
   "source": [
    "converge_score_hist[-10:]"
   ]
  },
  {
   "cell_type": "code",
   "execution_count": 155,
   "id": "db294196",
   "metadata": {},
   "outputs": [],
   "source": [
    "if (os.path.isdir('result')):\n",
    "    shutil.rmtree('result')\n",
    "os.mkdir('result')\n",
    "\n",
    "for i in range(len(groups)):\n",
    "    dr= 'result/' + str(i) + \"- size: \" +str(len(groups[i].members))\n",
    "    os.mkdir(dr)\n",
    "    plt.imsave(dr+'/center.jpeg', groups[i].center.reshape(16,-1), cmap='gray')\n",
    "    for j in range(20):\n",
    "        plt.imsave(dr+'/'+str(j)+'.jpeg', groups[i].members[j].reshape(16,-1), cmap='gray')"
   ]
  },
  {
   "cell_type": "code",
   "execution_count": null,
   "id": "cc2339eb",
   "metadata": {},
   "outputs": [],
   "source": []
  },
  {
   "cell_type": "code",
   "execution_count": null,
   "id": "a12e2240",
   "metadata": {},
   "outputs": [],
   "source": []
  }
 ],
 "metadata": {
  "kernelspec": {
   "display_name": "Python 3 (ipykernel)",
   "language": "python",
   "name": "python3"
  },
  "language_info": {
   "codemirror_mode": {
    "name": "ipython",
    "version": 3
   },
   "file_extension": ".py",
   "mimetype": "text/x-python",
   "name": "python",
   "nbconvert_exporter": "python",
   "pygments_lexer": "ipython3",
   "version": "3.10.9"
  }
 },
 "nbformat": 4,
 "nbformat_minor": 5
}
